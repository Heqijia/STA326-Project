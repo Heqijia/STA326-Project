{
 "cells": [
  {
   "cell_type": "code",
   "execution_count": 1,
   "metadata": {},
   "outputs": [],
   "source": [
    "import pandas as pd\n",
    "import numpy as np\n",
    "import os\n",
    "\n",
    "import seaborn as sns\n",
    "import matplotlib.pyplot as plt\n",
    "from matplotlib import style\n",
    "\n",
    "from datetime import datetime, timedelta\n",
    "%matplotlib inline"
   ]
  },
  {
   "cell_type": "code",
   "execution_count": 2,
   "metadata": {},
   "outputs": [],
   "source": [
    "# 数据读取\n",
    "import json\n",
    "\n",
    "path = r\"D:\\\\学习\\\\大三下\\\\数据科学实践\\\\project\\\\2018record3.jsons\"\n",
    "data = []\n",
    "with open(path, 'r', encoding='utf-8') as f:\n",
    "    for line in f.readlines():\n",
    "        data += json.loads(line)['data']\n",
    "data = pd.DataFrame(data)\n",
    "columns = ['card_no', 'deal_date', 'deal_type', 'deal_money', 'deal_value', 'equ_no', 'company_name', 'station', 'car_no', 'conn_mark', 'close_date']\n",
    "data = data[columns]  # 调整字段顺序"
   ]
  },
  {
   "cell_type": "code",
   "execution_count": 3,
   "metadata": {},
   "outputs": [],
   "source": [
    "data[\"deal_date\"] = pd.to_datetime(data[\"deal_date\"], format='%Y-%m-%d %H:%M:%S')\n",
    "data[\"deal_date_month\"] = data.deal_date.apply(lambda x: x.month)\n",
    "data['deal_dayofweek'] = data.deal_date.apply(lambda x: x.dayofweek)\n",
    "data['deal_date_day'] = data.deal_date.apply(lambda x: x.day)\n",
    "data[\"hour_minute\"] = data[\"deal_date\"].dt.strftime('%H:%M')"
   ]
  },
  {
   "cell_type": "code",
   "execution_count": 4,
   "metadata": {},
   "outputs": [
    {
     "data": {
      "text/plain": [
       "array(['05:28', '06:05', '04:31', '04:53', '05:09', '05:17', '05:27',\n",
       "       '05:49', '04:35', '04:44', '05:48', '04:33', '05:29', '05:35',\n",
       "       '05:43', '05:45', '05:54', '05:30', '05:42', '04:51', '04:34',\n",
       "       '05:33', '05:41', '05:59', '06:00', '06:03', '05:11', '05:47',\n",
       "       '04:42', '05:32', '05:52', '06:01', '06:02', '04:32', '04:47',\n",
       "       '04:56', '01:43', '04:45', '04:28', '05:31', '06:06', '06:08',\n",
       "       '06:13', '06:11', '06:14', '06:09', '06:15', '06:16', '06:17',\n",
       "       '06:18', '06:19', '05:56', '06:12', '06:10', '06:21', '06:20',\n",
       "       '06:22', '06:23', '06:24', '06:27', '06:28', '06:29', '06:30',\n",
       "       '06:32', '06:26', '06:25', '06:31', '06:33', '06:34', '06:35',\n",
       "       '06:36', '06:38', '06:39', '06:37', '06:40', '06:41', '06:42',\n",
       "       '06:43', '06:44', '06:45', '06:46', '06:47', '06:48', '06:50',\n",
       "       '06:49', '06:51', '06:52', '06:53', '06:54', '06:55', '06:57',\n",
       "       '06:58', '06:59', '06:56', '07:00', '07:01', '07:02', '07:03',\n",
       "       '07:04', '07:05', '07:08', '07:07', '07:06', '07:09', '07:10',\n",
       "       '07:11', '07:12', '07:13', '07:14', '07:15', '07:16', '07:17',\n",
       "       '07:18', '07:19', '07:20', '07:21', '07:22', '07:23', '07:24',\n",
       "       '07:25', '07:26', '07:27', '07:28', '07:29', '07:30', '07:31',\n",
       "       '07:32', '07:33', '07:34', '07:35', '07:36', '07:37', '07:38',\n",
       "       '07:39', '07:40', '07:41', '07:42', '07:43', '07:44', '07:45',\n",
       "       '07:46', '07:47', '07:48', '07:49', '07:50', '07:51', '07:53',\n",
       "       '07:52', '07:54', '07:55', '07:56', '07:57', '07:59', '08:00',\n",
       "       '08:01', '08:02', '08:03', '08:04', '08:05', '07:58', '08:06',\n",
       "       '08:07', '08:08', '08:10', '08:09', '08:23', '08:21', '08:19',\n",
       "       '08:22', '08:27', '08:30', '08:31', '08:24', '08:25', '08:17',\n",
       "       '08:20', '08:28', '08:29', '08:12', '08:26', '08:16', '08:11',\n",
       "       '08:32', '08:15', '08:14', '08:18', '08:13', '08:33', '08:34',\n",
       "       '08:35', '08:37', '08:36', '08:38', '08:39', '08:40', '08:41',\n",
       "       '08:42', '08:43', '08:44', '08:45', '08:46', '08:55', '08:54',\n",
       "       '08:56', '08:53', '08:47', '08:49', '08:48', '08:50', '08:51',\n",
       "       '08:52', '08:58', '08:59', '09:00', '08:57', '09:01', '09:05',\n",
       "       '09:03', '09:02', '09:04', '09:06', '09:07', '09:08', '09:10',\n",
       "       '09:09', '09:11', '09:17', '09:19', '09:21', '09:20', '09:16',\n",
       "       '09:18', '09:22', '09:15', '09:12', '09:13', '09:14', '09:23',\n",
       "       '09:24', '09:26', '09:25', '09:27', '09:28', '09:29', '09:30',\n",
       "       '09:31', '09:32', '09:33', '09:34', '09:38', '09:39', '09:35',\n",
       "       '09:36', '09:40', '09:37', '09:41', '09:42', '09:48', '09:47',\n",
       "       '09:49', '09:50', '09:58', '10:00', '10:01', '10:02', '09:59',\n",
       "       '10:05', '10:04', '10:07', '10:06', '10:08', '10:03', '09:43',\n",
       "       '09:44', '09:45', '09:46', '10:11', '09:57', '09:54', '09:56',\n",
       "       '09:52', '09:53', '09:55', '09:51', '10:10', '10:09', '10:14',\n",
       "       '10:12', '10:13', '10:15', '10:16', '10:19', '10:20', '10:17',\n",
       "       '10:18', '10:21', '10:24', '10:25', '10:22', '10:23', '10:26',\n",
       "       '10:27', '10:28', '10:30', '10:31', '10:29', '10:32', '10:33',\n",
       "       '10:34', '10:35', '10:37', '10:36', '10:40', '10:41', '10:39',\n",
       "       '10:38', '10:42', '10:43', '10:44', '10:45', '10:46', '10:55',\n",
       "       '10:53', '10:54', '10:51', '10:56', '10:57', '10:47', '10:48',\n",
       "       '10:49', '10:50', '10:52', '10:58', '10:59', '11:00', '11:01',\n",
       "       '11:02', '11:04', '11:03', '11:06', '11:05', '11:07', '11:10',\n",
       "       '11:08', '11:09', '11:11', '11:12', '11:14', '11:15', '11:16',\n",
       "       '11:13', '11:17', '11:22', '11:20', '11:19', '11:21', '11:18',\n",
       "       '11:23', '11:24', '11:25', '11:26', '11:27', '11:28'], dtype=object)"
      ]
     },
     "execution_count": 4,
     "metadata": {},
     "output_type": "execute_result"
    }
   ],
   "source": [
    "data[(data[\"deal_date_month\"] == 9) & (data[\"company_name\"] == \"地铁五号线\")][\"hour_minute\"].unique()"
   ]
  },
  {
   "cell_type": "markdown",
   "metadata": {},
   "source": [
    "## 8.31下午客流量"
   ]
  },
  {
   "cell_type": "code",
   "execution_count": 4,
   "metadata": {},
   "outputs": [],
   "source": [
    "# 提取下午的数据（8.31的数据）\n",
    "afternoon_data = data[data[\"deal_date_month\"] == 8]"
   ]
  },
  {
   "cell_type": "code",
   "execution_count": 5,
   "metadata": {},
   "outputs": [
    {
     "name": "stderr",
     "output_type": "stream",
     "text": [
      "C:\\Users\\30138\\AppData\\Local\\Temp\\ipykernel_21836\\687654742.py:3: SettingWithCopyWarning: \n",
      "A value is trying to be set on a copy of a slice from a DataFrame.\n",
      "Try using .loc[row_indexer,col_indexer] = value instead\n",
      "\n",
      "See the caveats in the documentation: https://pandas.pydata.org/pandas-docs/stable/user_guide/indexing.html#returning-a-view-versus-a-copy\n",
      "  line5['cnt'] = 1\n"
     ]
    }
   ],
   "source": [
    "# 数据提取（5号线相关数据）\n",
    "line5 = afternoon_data[afternoon_data[\"company_name\"]==(\"地铁五号线\")]\n",
    "line5['cnt'] = 1\n",
    "line5_out = line5[line5[\"deal_type\"]==(\"地铁出站\")]\n",
    "line5_in = line5[line5[\"deal_type\"]==(\"地铁入站\")]"
   ]
  },
  {
   "cell_type": "code",
   "execution_count": 6,
   "metadata": {},
   "outputs": [],
   "source": [
    "# 统计人次\n",
    "station_cnt = line5.groupby(\"station\")['cnt'].sum().reset_index()\n",
    "station_cnt[\"porpotion\"] = station_cnt[\"cnt\"]/station_cnt[\"cnt\"].sum()\n",
    "\n",
    "# 统计进站、出站人次\n",
    "station_cnt_in = line5_in.groupby(\"station\")['cnt'].sum().reset_index()\n",
    "station_cnt_in[\"porpotion\"] = station_cnt_in[\"cnt\"]/station_cnt_in[\"cnt\"].sum()\n",
    "station_cnt_in.sort_values(by=\"porpotion\", ascending=False, inplace=True)\n",
    "\n",
    "station_cnt_out = line5_out.groupby(\"station\")['cnt'].sum().reset_index()\n",
    "station_cnt_out[\"porpotion\"] = station_cnt_out[\"cnt\"]/station_cnt_out[\"cnt\"].sum()\n",
    "station_cnt_out.sort_values(by=\"porpotion\", ascending=False, inplace=True)\n",
    "\n",
    "station_cnt.sort_values(by=\"porpotion\", ascending=False, inplace=True)"
   ]
  },
  {
   "cell_type": "code",
   "execution_count": 7,
   "metadata": {},
   "outputs": [
    {
     "data": {
      "text/html": [
       "<div>\n",
       "<style scoped>\n",
       "    .dataframe tbody tr th:only-of-type {\n",
       "        vertical-align: middle;\n",
       "    }\n",
       "\n",
       "    .dataframe tbody tr th {\n",
       "        vertical-align: top;\n",
       "    }\n",
       "\n",
       "    .dataframe thead th {\n",
       "        text-align: right;\n",
       "    }\n",
       "</style>\n",
       "<table border=\"1\" class=\"dataframe\">\n",
       "  <thead>\n",
       "    <tr style=\"text-align: right;\">\n",
       "      <th></th>\n",
       "      <th>station</th>\n",
       "      <th>cnt</th>\n",
       "      <th>porpotion</th>\n",
       "    </tr>\n",
       "  </thead>\n",
       "  <tbody>\n",
       "    <tr>\n",
       "      <th>1</th>\n",
       "      <td>深圳北</td>\n",
       "      <td>13744</td>\n",
       "      <td>0.970621</td>\n",
       "    </tr>\n",
       "    <tr>\n",
       "      <th>0</th>\n",
       "      <td>布吉</td>\n",
       "      <td>416</td>\n",
       "      <td>0.029379</td>\n",
       "    </tr>\n",
       "  </tbody>\n",
       "</table>\n",
       "</div>"
      ],
      "text/plain": [
       "  station    cnt  porpotion\n",
       "1     深圳北  13744   0.970621\n",
       "0      布吉    416   0.029379"
      ]
     },
     "execution_count": 7,
     "metadata": {},
     "output_type": "execute_result"
    }
   ],
   "source": [
    "station_cnt_in"
   ]
  },
  {
   "cell_type": "code",
   "execution_count": 8,
   "metadata": {},
   "outputs": [
    {
     "data": {
      "text/html": [
       "<div>\n",
       "<style scoped>\n",
       "    .dataframe tbody tr th:only-of-type {\n",
       "        vertical-align: middle;\n",
       "    }\n",
       "\n",
       "    .dataframe tbody tr th {\n",
       "        vertical-align: top;\n",
       "    }\n",
       "\n",
       "    .dataframe thead th {\n",
       "        text-align: right;\n",
       "    }\n",
       "</style>\n",
       "<table border=\"1\" class=\"dataframe\">\n",
       "  <thead>\n",
       "    <tr style=\"text-align: right;\">\n",
       "      <th></th>\n",
       "      <th>station</th>\n",
       "      <th>cnt</th>\n",
       "      <th>porpotion</th>\n",
       "    </tr>\n",
       "  </thead>\n",
       "  <tbody>\n",
       "    <tr>\n",
       "      <th>0</th>\n",
       "      <td>深圳北</td>\n",
       "      <td>13683</td>\n",
       "      <td>0.998322</td>\n",
       "    </tr>\n",
       "    <tr>\n",
       "      <th>1</th>\n",
       "      <td>长龙</td>\n",
       "      <td>23</td>\n",
       "      <td>0.001678</td>\n",
       "    </tr>\n",
       "  </tbody>\n",
       "</table>\n",
       "</div>"
      ],
      "text/plain": [
       "  station    cnt  porpotion\n",
       "0     深圳北  13683   0.998322\n",
       "1      长龙     23   0.001678"
      ]
     },
     "execution_count": 8,
     "metadata": {},
     "output_type": "execute_result"
    }
   ],
   "source": [
    "station_cnt_out"
   ]
  },
  {
   "cell_type": "markdown",
   "metadata": {},
   "source": [
    "## 9.1上午客流量"
   ]
  },
  {
   "cell_type": "code",
   "execution_count": 9,
   "metadata": {},
   "outputs": [],
   "source": [
    "# 提取上午的数据（9.1的数据）\n",
    "morning_data = data[data[\"deal_date_month\"] == 9]"
   ]
  },
  {
   "cell_type": "code",
   "execution_count": 10,
   "metadata": {},
   "outputs": [
    {
     "name": "stderr",
     "output_type": "stream",
     "text": [
      "C:\\Users\\30138\\AppData\\Local\\Temp\\ipykernel_21836\\1078080897.py:3: SettingWithCopyWarning: \n",
      "A value is trying to be set on a copy of a slice from a DataFrame.\n",
      "Try using .loc[row_indexer,col_indexer] = value instead\n",
      "\n",
      "See the caveats in the documentation: https://pandas.pydata.org/pandas-docs/stable/user_guide/indexing.html#returning-a-view-versus-a-copy\n",
      "  line5['cnt'] = 1\n"
     ]
    }
   ],
   "source": [
    "# 数据提取（5号线相关数据）\n",
    "line5 = morning_data[morning_data[\"company_name\"]==(\"地铁五号线\")]\n",
    "line5['cnt'] = 1\n",
    "line5_out = line5[line5[\"deal_type\"]==(\"地铁出站\")]\n",
    "line5_in = line5[line5[\"deal_type\"]==(\"地铁入站\")]"
   ]
  },
  {
   "cell_type": "code",
   "execution_count": 11,
   "metadata": {},
   "outputs": [],
   "source": [
    "# 统计总人次\n",
    "station_cnt = line5.groupby(\"station\")['cnt'].sum().reset_index()\n",
    "station_cnt[\"porpotion\"] = station_cnt[\"cnt\"]/station_cnt[\"cnt\"].sum()\n",
    "station_cnt.sort_values(by=\"porpotion\", ascending=False, inplace=True)"
   ]
  },
  {
   "cell_type": "code",
   "execution_count": 12,
   "metadata": {},
   "outputs": [],
   "source": [
    "station_cnt.to_csv(\"station_cnt.csv\")"
   ]
  },
  {
   "cell_type": "code",
   "execution_count": 13,
   "metadata": {},
   "outputs": [],
   "source": [
    "# 统计进站、出站人次\n",
    "station_cnt_in = line5_in.groupby(\"station\")['cnt'].sum().reset_index()\n",
    "station_cnt_in[\"porpotion\"] = station_cnt_in[\"cnt\"]/station_cnt_in[\"cnt\"].sum()\n",
    "station_cnt_in.sort_values(by=\"porpotion\", ascending=False, inplace=True)\n",
    "\n",
    "station_cnt_out = line5_out.groupby(\"station\")['cnt'].sum().reset_index()\n",
    "station_cnt_out[\"porpotion\"] = station_cnt_out[\"cnt\"]/station_cnt_out[\"cnt\"].sum()\n",
    "station_cnt_out.sort_values(by=\"porpotion\", ascending=False, inplace=True)"
   ]
  },
  {
   "cell_type": "code",
   "execution_count": 14,
   "metadata": {},
   "outputs": [
    {
     "data": {
      "text/html": [
       "<div>\n",
       "<style scoped>\n",
       "    .dataframe tbody tr th:only-of-type {\n",
       "        vertical-align: middle;\n",
       "    }\n",
       "\n",
       "    .dataframe tbody tr th {\n",
       "        vertical-align: top;\n",
       "    }\n",
       "\n",
       "    .dataframe thead th {\n",
       "        text-align: right;\n",
       "    }\n",
       "</style>\n",
       "<table border=\"1\" class=\"dataframe\">\n",
       "  <thead>\n",
       "    <tr style=\"text-align: right;\">\n",
       "      <th></th>\n",
       "      <th>station</th>\n",
       "      <th>cnt</th>\n",
       "      <th>porpotion</th>\n",
       "    </tr>\n",
       "  </thead>\n",
       "  <tbody>\n",
       "    <tr>\n",
       "      <th>3</th>\n",
       "      <td>五和</td>\n",
       "      <td>11366</td>\n",
       "      <td>0.115305</td>\n",
       "    </tr>\n",
       "    <tr>\n",
       "      <th>14</th>\n",
       "      <td>民治</td>\n",
       "      <td>8739</td>\n",
       "      <td>0.088655</td>\n",
       "    </tr>\n",
       "    <tr>\n",
       "      <th>1</th>\n",
       "      <td>下水径</td>\n",
       "      <td>6699</td>\n",
       "      <td>0.067960</td>\n",
       "    </tr>\n",
       "    <tr>\n",
       "      <th>24</th>\n",
       "      <td>黄贝岭</td>\n",
       "      <td>5529</td>\n",
       "      <td>0.056090</td>\n",
       "    </tr>\n",
       "    <tr>\n",
       "      <th>23</th>\n",
       "      <td>长龙</td>\n",
       "      <td>5519</td>\n",
       "      <td>0.055989</td>\n",
       "    </tr>\n",
       "    <tr>\n",
       "      <th>5</th>\n",
       "      <td>坂田</td>\n",
       "      <td>5399</td>\n",
       "      <td>0.054772</td>\n",
       "    </tr>\n",
       "    <tr>\n",
       "      <th>21</th>\n",
       "      <td>西丽</td>\n",
       "      <td>5274</td>\n",
       "      <td>0.053503</td>\n",
       "    </tr>\n",
       "    <tr>\n",
       "      <th>17</th>\n",
       "      <td>灵芝</td>\n",
       "      <td>5186</td>\n",
       "      <td>0.052611</td>\n",
       "    </tr>\n",
       "    <tr>\n",
       "      <th>16</th>\n",
       "      <td>深圳北</td>\n",
       "      <td>4755</td>\n",
       "      <td>0.048238</td>\n",
       "    </tr>\n",
       "    <tr>\n",
       "      <th>20</th>\n",
       "      <td>翻身</td>\n",
       "      <td>4463</td>\n",
       "      <td>0.045276</td>\n",
       "    </tr>\n",
       "    <tr>\n",
       "      <th>13</th>\n",
       "      <td>杨美</td>\n",
       "      <td>4352</td>\n",
       "      <td>0.044150</td>\n",
       "    </tr>\n",
       "    <tr>\n",
       "      <th>10</th>\n",
       "      <td>布吉</td>\n",
       "      <td>4288</td>\n",
       "      <td>0.043501</td>\n",
       "    </tr>\n",
       "    <tr>\n",
       "      <th>15</th>\n",
       "      <td>洪浪北</td>\n",
       "      <td>4094</td>\n",
       "      <td>0.041533</td>\n",
       "    </tr>\n",
       "    <tr>\n",
       "      <th>19</th>\n",
       "      <td>百鸽笼</td>\n",
       "      <td>3061</td>\n",
       "      <td>0.031053</td>\n",
       "    </tr>\n",
       "    <tr>\n",
       "      <th>12</th>\n",
       "      <td>怡景</td>\n",
       "      <td>2930</td>\n",
       "      <td>0.029724</td>\n",
       "    </tr>\n",
       "    <tr>\n",
       "      <th>8</th>\n",
       "      <td>太安</td>\n",
       "      <td>2683</td>\n",
       "      <td>0.027218</td>\n",
       "    </tr>\n",
       "    <tr>\n",
       "      <th>11</th>\n",
       "      <td>布心</td>\n",
       "      <td>2658</td>\n",
       "      <td>0.026965</td>\n",
       "    </tr>\n",
       "    <tr>\n",
       "      <th>4</th>\n",
       "      <td>兴东</td>\n",
       "      <td>2623</td>\n",
       "      <td>0.026610</td>\n",
       "    </tr>\n",
       "    <tr>\n",
       "      <th>7</th>\n",
       "      <td>大学城</td>\n",
       "      <td>2489</td>\n",
       "      <td>0.025250</td>\n",
       "    </tr>\n",
       "    <tr>\n",
       "      <th>0</th>\n",
       "      <td>上水径</td>\n",
       "      <td>2305</td>\n",
       "      <td>0.023384</td>\n",
       "    </tr>\n",
       "    <tr>\n",
       "      <th>6</th>\n",
       "      <td>塘朗</td>\n",
       "      <td>1759</td>\n",
       "      <td>0.017845</td>\n",
       "    </tr>\n",
       "    <tr>\n",
       "      <th>18</th>\n",
       "      <td>留仙洞</td>\n",
       "      <td>1616</td>\n",
       "      <td>0.016394</td>\n",
       "    </tr>\n",
       "    <tr>\n",
       "      <th>22</th>\n",
       "      <td>长岭陂</td>\n",
       "      <td>440</td>\n",
       "      <td>0.004464</td>\n",
       "    </tr>\n",
       "    <tr>\n",
       "      <th>9</th>\n",
       "      <td>宝华</td>\n",
       "      <td>262</td>\n",
       "      <td>0.002658</td>\n",
       "    </tr>\n",
       "    <tr>\n",
       "      <th>2</th>\n",
       "      <td>临海</td>\n",
       "      <td>84</td>\n",
       "      <td>0.000852</td>\n",
       "    </tr>\n",
       "  </tbody>\n",
       "</table>\n",
       "</div>"
      ],
      "text/plain": [
       "   station    cnt  porpotion\n",
       "3       五和  11366   0.115305\n",
       "14      民治   8739   0.088655\n",
       "1      下水径   6699   0.067960\n",
       "24     黄贝岭   5529   0.056090\n",
       "23      长龙   5519   0.055989\n",
       "5       坂田   5399   0.054772\n",
       "21      西丽   5274   0.053503\n",
       "17      灵芝   5186   0.052611\n",
       "16     深圳北   4755   0.048238\n",
       "20      翻身   4463   0.045276\n",
       "13      杨美   4352   0.044150\n",
       "10      布吉   4288   0.043501\n",
       "15     洪浪北   4094   0.041533\n",
       "19     百鸽笼   3061   0.031053\n",
       "12      怡景   2930   0.029724\n",
       "8       太安   2683   0.027218\n",
       "11      布心   2658   0.026965\n",
       "4       兴东   2623   0.026610\n",
       "7      大学城   2489   0.025250\n",
       "0      上水径   2305   0.023384\n",
       "6       塘朗   1759   0.017845\n",
       "18     留仙洞   1616   0.016394\n",
       "22     长岭陂    440   0.004464\n",
       "9       宝华    262   0.002658\n",
       "2       临海     84   0.000852"
      ]
     },
     "execution_count": 14,
     "metadata": {},
     "output_type": "execute_result"
    }
   ],
   "source": [
    "station_cnt_in"
   ]
  },
  {
   "cell_type": "code",
   "execution_count": 15,
   "metadata": {},
   "outputs": [
    {
     "data": {
      "text/html": [
       "<div>\n",
       "<style scoped>\n",
       "    .dataframe tbody tr th:only-of-type {\n",
       "        vertical-align: middle;\n",
       "    }\n",
       "\n",
       "    .dataframe tbody tr th {\n",
       "        vertical-align: top;\n",
       "    }\n",
       "\n",
       "    .dataframe thead th {\n",
       "        text-align: right;\n",
       "    }\n",
       "</style>\n",
       "<table border=\"1\" class=\"dataframe\">\n",
       "  <thead>\n",
       "    <tr style=\"text-align: right;\">\n",
       "      <th></th>\n",
       "      <th>station</th>\n",
       "      <th>cnt</th>\n",
       "      <th>porpotion</th>\n",
       "    </tr>\n",
       "  </thead>\n",
       "  <tbody>\n",
       "    <tr>\n",
       "      <th>16</th>\n",
       "      <td>深圳北</td>\n",
       "      <td>8963</td>\n",
       "      <td>0.121340</td>\n",
       "    </tr>\n",
       "    <tr>\n",
       "      <th>4</th>\n",
       "      <td>兴东</td>\n",
       "      <td>5334</td>\n",
       "      <td>0.072211</td>\n",
       "    </tr>\n",
       "    <tr>\n",
       "      <th>3</th>\n",
       "      <td>五和</td>\n",
       "      <td>5058</td>\n",
       "      <td>0.068474</td>\n",
       "    </tr>\n",
       "    <tr>\n",
       "      <th>24</th>\n",
       "      <td>黄贝岭</td>\n",
       "      <td>4184</td>\n",
       "      <td>0.056642</td>\n",
       "    </tr>\n",
       "    <tr>\n",
       "      <th>21</th>\n",
       "      <td>西丽</td>\n",
       "      <td>3798</td>\n",
       "      <td>0.051417</td>\n",
       "    </tr>\n",
       "    <tr>\n",
       "      <th>14</th>\n",
       "      <td>民治</td>\n",
       "      <td>3745</td>\n",
       "      <td>0.050699</td>\n",
       "    </tr>\n",
       "    <tr>\n",
       "      <th>7</th>\n",
       "      <td>大学城</td>\n",
       "      <td>3576</td>\n",
       "      <td>0.048411</td>\n",
       "    </tr>\n",
       "    <tr>\n",
       "      <th>6</th>\n",
       "      <td>塘朗</td>\n",
       "      <td>3546</td>\n",
       "      <td>0.048005</td>\n",
       "    </tr>\n",
       "    <tr>\n",
       "      <th>17</th>\n",
       "      <td>灵芝</td>\n",
       "      <td>3140</td>\n",
       "      <td>0.042509</td>\n",
       "    </tr>\n",
       "    <tr>\n",
       "      <th>5</th>\n",
       "      <td>坂田</td>\n",
       "      <td>2978</td>\n",
       "      <td>0.040316</td>\n",
       "    </tr>\n",
       "    <tr>\n",
       "      <th>13</th>\n",
       "      <td>杨美</td>\n",
       "      <td>2971</td>\n",
       "      <td>0.040221</td>\n",
       "    </tr>\n",
       "    <tr>\n",
       "      <th>11</th>\n",
       "      <td>布心</td>\n",
       "      <td>2772</td>\n",
       "      <td>0.037527</td>\n",
       "    </tr>\n",
       "    <tr>\n",
       "      <th>15</th>\n",
       "      <td>洪浪北</td>\n",
       "      <td>2739</td>\n",
       "      <td>0.037080</td>\n",
       "    </tr>\n",
       "    <tr>\n",
       "      <th>12</th>\n",
       "      <td>怡景</td>\n",
       "      <td>2609</td>\n",
       "      <td>0.035320</td>\n",
       "    </tr>\n",
       "    <tr>\n",
       "      <th>18</th>\n",
       "      <td>留仙洞</td>\n",
       "      <td>2451</td>\n",
       "      <td>0.033181</td>\n",
       "    </tr>\n",
       "    <tr>\n",
       "      <th>19</th>\n",
       "      <td>百鸽笼</td>\n",
       "      <td>2433</td>\n",
       "      <td>0.032938</td>\n",
       "    </tr>\n",
       "    <tr>\n",
       "      <th>10</th>\n",
       "      <td>布吉</td>\n",
       "      <td>2376</td>\n",
       "      <td>0.032166</td>\n",
       "    </tr>\n",
       "    <tr>\n",
       "      <th>8</th>\n",
       "      <td>太安</td>\n",
       "      <td>2324</td>\n",
       "      <td>0.031462</td>\n",
       "    </tr>\n",
       "    <tr>\n",
       "      <th>9</th>\n",
       "      <td>宝华</td>\n",
       "      <td>2012</td>\n",
       "      <td>0.027238</td>\n",
       "    </tr>\n",
       "    <tr>\n",
       "      <th>20</th>\n",
       "      <td>翻身</td>\n",
       "      <td>1934</td>\n",
       "      <td>0.026182</td>\n",
       "    </tr>\n",
       "    <tr>\n",
       "      <th>23</th>\n",
       "      <td>长龙</td>\n",
       "      <td>1906</td>\n",
       "      <td>0.025803</td>\n",
       "    </tr>\n",
       "    <tr>\n",
       "      <th>1</th>\n",
       "      <td>下水径</td>\n",
       "      <td>1271</td>\n",
       "      <td>0.017207</td>\n",
       "    </tr>\n",
       "    <tr>\n",
       "      <th>0</th>\n",
       "      <td>上水径</td>\n",
       "      <td>854</td>\n",
       "      <td>0.011561</td>\n",
       "    </tr>\n",
       "    <tr>\n",
       "      <th>22</th>\n",
       "      <td>长岭陂</td>\n",
       "      <td>832</td>\n",
       "      <td>0.011263</td>\n",
       "    </tr>\n",
       "    <tr>\n",
       "      <th>2</th>\n",
       "      <td>临海</td>\n",
       "      <td>61</td>\n",
       "      <td>0.000826</td>\n",
       "    </tr>\n",
       "  </tbody>\n",
       "</table>\n",
       "</div>"
      ],
      "text/plain": [
       "   station   cnt  porpotion\n",
       "16     深圳北  8963   0.121340\n",
       "4       兴东  5334   0.072211\n",
       "3       五和  5058   0.068474\n",
       "24     黄贝岭  4184   0.056642\n",
       "21      西丽  3798   0.051417\n",
       "14      民治  3745   0.050699\n",
       "7      大学城  3576   0.048411\n",
       "6       塘朗  3546   0.048005\n",
       "17      灵芝  3140   0.042509\n",
       "5       坂田  2978   0.040316\n",
       "13      杨美  2971   0.040221\n",
       "11      布心  2772   0.037527\n",
       "15     洪浪北  2739   0.037080\n",
       "12      怡景  2609   0.035320\n",
       "18     留仙洞  2451   0.033181\n",
       "19     百鸽笼  2433   0.032938\n",
       "10      布吉  2376   0.032166\n",
       "8       太安  2324   0.031462\n",
       "9       宝华  2012   0.027238\n",
       "20      翻身  1934   0.026182\n",
       "23      长龙  1906   0.025803\n",
       "1      下水径  1271   0.017207\n",
       "0      上水径   854   0.011561\n",
       "22     长岭陂   832   0.011263\n",
       "2       临海    61   0.000826"
      ]
     },
     "execution_count": 15,
     "metadata": {},
     "output_type": "execute_result"
    }
   ],
   "source": [
    "station_cnt_out"
   ]
  },
  {
   "cell_type": "markdown",
   "metadata": {},
   "source": [
    "## 数据模拟"
   ]
  },
  {
   "cell_type": "markdown",
   "metadata": {},
   "source": [
    "### 1. 暂不考虑换乘 + 目前为双向运行 + 上午"
   ]
  },
  {
   "cell_type": "code",
   "execution_count": 17,
   "metadata": {},
   "outputs": [],
   "source": [
    "# # 将站点依据顺序进行字典映射：赤湾——>黄贝岭\n",
    "# stations = {0:'赤湾',1:'荔湾',2:'铁路公园',3:'妈湾',4:'前湾公园',5:'前湾', 6:'桂湾', 7:'前海湾',8:'临海',9:'宝华',10:'宝安中心',11:'翻身',\n",
    "#             12:'灵芝',13:'洪浪北',14:'兴东',15:'留仙洞',16:'西丽',17:'大学城',18:'塘朗',19:'长岭陂',20:'深圳北站',21:'民治',22:'五和',23:'坂田',\n",
    "#             24:'杨美',25:'上水径',26:'下水径',27:'长龙',28:'布吉',29:'百鸽笼',30:'布心',31:'太安',32:'怡景',33:'黄贝岭'}"
   ]
  },
  {
   "cell_type": "code",
   "execution_count": 16,
   "metadata": {},
   "outputs": [],
   "source": [
    "# 将站点依据顺序进行字典映射：赤湾——>黄贝岭\n",
    "stations = {0:'临海',1:'宝华',2:'翻身',3:'灵芝',4:'洪浪北',5:'兴东',6:'留仙洞',7:'西丽',8:'大学城',9:'塘朗',10:'长岭陂',11:'深圳北',12:'民治',13:'五和',14:'坂田',\n",
    "            15:'杨美',16:'上水径',17:'下水径',18:'长龙',19:'布吉',20:'百鸽笼',21:'布心',22:'太安',23:'怡景',24:'黄贝岭'}"
   ]
  },
  {
   "cell_type": "code",
   "execution_count": 17,
   "metadata": {},
   "outputs": [
    {
     "data": {
      "text/plain": [
       "{'临海': 0,\n",
       " '宝华': 1,\n",
       " '翻身': 2,\n",
       " '灵芝': 3,\n",
       " '洪浪北': 4,\n",
       " '兴东': 5,\n",
       " '留仙洞': 6,\n",
       " '西丽': 7,\n",
       " '大学城': 8,\n",
       " '塘朗': 9,\n",
       " '长岭陂': 10,\n",
       " '深圳北': 11,\n",
       " '民治': 12,\n",
       " '五和': 13,\n",
       " '坂田': 14,\n",
       " '杨美': 15,\n",
       " '上水径': 16,\n",
       " '下水径': 17,\n",
       " '长龙': 18,\n",
       " '布吉': 19,\n",
       " '百鸽笼': 20,\n",
       " '布心': 21,\n",
       " '太安': 22,\n",
       " '怡景': 23,\n",
       " '黄贝岭': 24}"
      ]
     },
     "execution_count": 17,
     "metadata": {},
     "output_type": "execute_result"
    }
   ],
   "source": [
    "station_to_order= {v:k for k,v in stations.items()}\n",
    "station_to_order"
   ]
  },
  {
   "cell_type": "markdown",
   "metadata": {},
   "source": [
    "#### 每个站点进站人数权重=上述计算所得各站占比，将该占比当作各站点抽样概率进行抽样。"
   ]
  },
  {
   "cell_type": "code",
   "execution_count": 18,
   "metadata": {},
   "outputs": [],
   "source": [
    "station_cnt_in['station_order'] = station_cnt_in['station'].apply(lambda x: station_to_order[x])\n",
    "station_cnt_out['station_order'] = station_cnt_out['station'].apply(lambda x: station_to_order[x])"
   ]
  },
  {
   "cell_type": "markdown",
   "metadata": {},
   "source": [
    "## 早上"
   ]
  },
  {
   "cell_type": "code",
   "execution_count": 19,
   "metadata": {},
   "outputs": [],
   "source": [
    "\n",
    "np.random.seed(123)\n",
    "\n",
    "n_sample = 100000\n",
    "morning_in_station = []\n",
    "morning_out_station = []\n",
    "\n",
    "while (len(morning_in_station) < n_sample):\n",
    "    sample_in = np.random.choice(list(station_cnt_in['station_order']), p = list(station_cnt_in['porpotion']), size=1, replace=True)\n",
    "    sample_out = np.random.choice(list(station_cnt_out['station_order']), p = list(station_cnt_out['porpotion']), size=1, replace=True)\n",
    "    if sample_in[0] != sample_out[0]:\n",
    "        morning_in_station.append(sample_in[0])\n",
    "        morning_out_station.append(sample_out[0])\n",
    "\n",
    "data = {'in_station': morning_in_station, 'out_station': morning_out_station}\n"
   ]
  },
  {
   "cell_type": "code",
   "execution_count": 20,
   "metadata": {},
   "outputs": [],
   "source": [
    "station_in_out = pd.DataFrame(data)"
   ]
  },
  {
   "cell_type": "code",
   "execution_count": 21,
   "metadata": {},
   "outputs": [
    {
     "data": {
      "text/html": [
       "<div>\n",
       "<style scoped>\n",
       "    .dataframe tbody tr th:only-of-type {\n",
       "        vertical-align: middle;\n",
       "    }\n",
       "\n",
       "    .dataframe tbody tr th {\n",
       "        vertical-align: top;\n",
       "    }\n",
       "\n",
       "    .dataframe thead th {\n",
       "        text-align: right;\n",
       "    }\n",
       "</style>\n",
       "<table border=\"1\" class=\"dataframe\">\n",
       "  <thead>\n",
       "    <tr style=\"text-align: right;\">\n",
       "      <th></th>\n",
       "      <th>in_station</th>\n",
       "      <th>out_station</th>\n",
       "    </tr>\n",
       "  </thead>\n",
       "  <tbody>\n",
       "    <tr>\n",
       "      <th>0</th>\n",
       "      <td>19</td>\n",
       "      <td>24</td>\n",
       "    </tr>\n",
       "    <tr>\n",
       "      <th>1</th>\n",
       "      <td>17</td>\n",
       "      <td>3</td>\n",
       "    </tr>\n",
       "    <tr>\n",
       "      <th>2</th>\n",
       "      <td>19</td>\n",
       "      <td>8</td>\n",
       "    </tr>\n",
       "    <tr>\n",
       "      <th>3</th>\n",
       "      <td>6</td>\n",
       "      <td>4</td>\n",
       "    </tr>\n",
       "    <tr>\n",
       "      <th>4</th>\n",
       "      <td>7</td>\n",
       "      <td>12</td>\n",
       "    </tr>\n",
       "    <tr>\n",
       "      <th>...</th>\n",
       "      <td>...</td>\n",
       "      <td>...</td>\n",
       "    </tr>\n",
       "    <tr>\n",
       "      <th>99995</th>\n",
       "      <td>11</td>\n",
       "      <td>13</td>\n",
       "    </tr>\n",
       "    <tr>\n",
       "      <th>99996</th>\n",
       "      <td>1</td>\n",
       "      <td>7</td>\n",
       "    </tr>\n",
       "    <tr>\n",
       "      <th>99997</th>\n",
       "      <td>22</td>\n",
       "      <td>5</td>\n",
       "    </tr>\n",
       "    <tr>\n",
       "      <th>99998</th>\n",
       "      <td>21</td>\n",
       "      <td>7</td>\n",
       "    </tr>\n",
       "    <tr>\n",
       "      <th>99999</th>\n",
       "      <td>13</td>\n",
       "      <td>1</td>\n",
       "    </tr>\n",
       "  </tbody>\n",
       "</table>\n",
       "<p>100000 rows × 2 columns</p>\n",
       "</div>"
      ],
      "text/plain": [
       "       in_station  out_station\n",
       "0              19           24\n",
       "1              17            3\n",
       "2              19            8\n",
       "3               6            4\n",
       "4               7           12\n",
       "...           ...          ...\n",
       "99995          11           13\n",
       "99996           1            7\n",
       "99997          22            5\n",
       "99998          21            7\n",
       "99999          13            1\n",
       "\n",
       "[100000 rows x 2 columns]"
      ]
     },
     "execution_count": 21,
     "metadata": {},
     "output_type": "execute_result"
    }
   ],
   "source": [
    "station_in_out"
   ]
  },
  {
   "cell_type": "markdown",
   "metadata": {},
   "source": [
    "### 和长的时间合并"
   ]
  },
  {
   "cell_type": "code",
   "execution_count": 22,
   "metadata": {},
   "outputs": [],
   "source": [
    "morning_longtime = pd.read_csv(\"morning_in_longtime.csv\")\n",
    "\n",
    "def minutes_to_time(minutes):\n",
    "    hours, minutes = divmod(minutes, 60)\n",
    "    return f\"{int(hours):02d}:{int(minutes):02d}\"\n",
    "morning_longtime['hour_minute'] = morning_longtime['morning_in_time'].apply(minutes_to_time)\n",
    "\n",
    "station_in_out['time_minute'] = morning_longtime['morning_in_time']\n",
    "station_in_out[\"time_hour_minute\"] = morning_longtime['hour_minute']\n",
    "\n",
    "station_in_out.to_csv(\"morning_longtime_100000.csv\",index=False) "
   ]
  },
  {
   "cell_type": "markdown",
   "metadata": {},
   "source": [
    "### 和短时间合并"
   ]
  },
  {
   "cell_type": "code",
   "execution_count": null,
   "metadata": {},
   "outputs": [],
   "source": [
    "station_in_out = pd.DataFrame(data)"
   ]
  },
  {
   "cell_type": "code",
   "execution_count": 74,
   "metadata": {},
   "outputs": [],
   "source": [
    "morning_shorttime = pd.read_csv(\"morning_in_shorttime.csv\")\n",
    "\n",
    "def minutes_to_time(minutes):\n",
    "    hours, minutes = divmod(minutes, 60)\n",
    "    return f\"{int(hours):02d}:{int(minutes):02d}\"\n",
    "morning_shorttime['hour_minute'] = morning_shorttime['morning_in_time'].apply(minutes_to_time)\n",
    "\n",
    "station_in_out['time_minute'] = morning_shorttime['morning_in_time']\n",
    "station_in_out[\"time_hour_minute\"] = morning_shorttime['hour_minute']\n",
    "\n",
    "station_in_out.to_csv(\"morning_shorttime_100000.csv\",index=False) "
   ]
  },
  {
   "cell_type": "markdown",
   "metadata": {},
   "source": [
    "## 晚上\n",
    "简单假设：其实就是早上的流动方向反过来"
   ]
  },
  {
   "cell_type": "code",
   "execution_count": 75,
   "metadata": {},
   "outputs": [],
   "source": [
    "evening_long_time = pd.read_csv(\"eve_in_longtime.csv\")  "
   ]
  },
  {
   "cell_type": "code",
   "execution_count": 76,
   "metadata": {},
   "outputs": [],
   "source": [
    "evening_in_out = pd.DataFrame(columns=['in_station','out_station','time_minute','time_hour_minute'])\n",
    "evening_in_out['in_station'] = station_in_out['out_station']\n",
    "evening_in_out['out_station'] = station_in_out['in_station']\n",
    "evening_in_out['time_minute'] = evening_long_time['eve_in_time']\n",
    "evening_in_out['time_hour_minute']=evening_long_time['eve_in_time'].apply(minutes_to_time)\n"
   ]
  },
  {
   "cell_type": "code",
   "execution_count": 77,
   "metadata": {},
   "outputs": [],
   "source": [
    "evening_in_out.to_csv(\"evening_longtime_100000.csv\",index=False)"
   ]
  },
  {
   "cell_type": "code",
   "execution_count": 70,
   "metadata": {},
   "outputs": [],
   "source": [
    "evening_long_time = pd.read_csv(\"eve_in_shorttime.csv\")  \n",
    "evening_in_out = pd.DataFrame(columns=['in_station','out_station','time_minute','time_hour_minute'])\n",
    "evening_in_out['in_station'] = station_in_out['out_station']\n",
    "evening_in_out['out_station'] = station_in_out['in_station']\n",
    "evening_in_out['time_minute'] = evening_long_time['eve_in_time']\n",
    "evening_in_out['time_hour_minute']=evening_long_time['eve_in_time'].apply(minutes_to_time)\n",
    "\n",
    "evening_in_out.to_csv(\"evening_shorttime_100000.csv\",index=False)"
   ]
  }
 ],
 "metadata": {
  "kernelspec": {
   "display_name": "base",
   "language": "python",
   "name": "python3"
  },
  "language_info": {
   "codemirror_mode": {
    "name": "ipython",
    "version": 3
   },
   "file_extension": ".py",
   "mimetype": "text/x-python",
   "name": "python",
   "nbconvert_exporter": "python",
   "pygments_lexer": "ipython3",
   "version": "3.9.16"
  }
 },
 "nbformat": 4,
 "nbformat_minor": 2
}
