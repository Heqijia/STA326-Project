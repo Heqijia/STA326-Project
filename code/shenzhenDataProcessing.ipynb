{
 "cells": [
  {
   "cell_type": "code",
   "execution_count": 1,
   "metadata": {},
   "outputs": [],
   "source": [
    "import pandas as pd\n",
    "import numpy as np\n",
    "from parameters import *"
   ]
  },
  {
   "cell_type": "code",
   "execution_count": 2,
   "metadata": {},
   "outputs": [
    {
     "data": {
      "text/html": [
       "<div>\n",
       "<style scoped>\n",
       "    .dataframe tbody tr th:only-of-type {\n",
       "        vertical-align: middle;\n",
       "    }\n",
       "\n",
       "    .dataframe tbody tr th {\n",
       "        vertical-align: top;\n",
       "    }\n",
       "\n",
       "    .dataframe thead th {\n",
       "        text-align: right;\n",
       "    }\n",
       "</style>\n",
       "<table border=\"1\" class=\"dataframe\">\n",
       "  <thead>\n",
       "    <tr style=\"text-align: right;\">\n",
       "      <th></th>\n",
       "      <th>start</th>\n",
       "      <th>end</th>\n",
       "      <th>time</th>\n",
       "    </tr>\n",
       "  </thead>\n",
       "  <tbody>\n",
       "    <tr>\n",
       "      <th>0</th>\n",
       "      <td>19</td>\n",
       "      <td>24</td>\n",
       "      <td>485</td>\n",
       "    </tr>\n",
       "    <tr>\n",
       "      <th>1</th>\n",
       "      <td>17</td>\n",
       "      <td>3</td>\n",
       "      <td>589</td>\n",
       "    </tr>\n",
       "    <tr>\n",
       "      <th>2</th>\n",
       "      <td>19</td>\n",
       "      <td>8</td>\n",
       "      <td>560</td>\n",
       "    </tr>\n",
       "    <tr>\n",
       "      <th>3</th>\n",
       "      <td>6</td>\n",
       "      <td>4</td>\n",
       "      <td>569</td>\n",
       "    </tr>\n",
       "    <tr>\n",
       "      <th>4</th>\n",
       "      <td>7</td>\n",
       "      <td>12</td>\n",
       "      <td>466</td>\n",
       "    </tr>\n",
       "  </tbody>\n",
       "</table>\n",
       "</div>"
      ],
      "text/plain": [
       "   start  end  time\n",
       "0     19   24   485\n",
       "1     17    3   589\n",
       "2     19    8   560\n",
       "3      6    4   569\n",
       "4      7   12   466"
      ]
     },
     "execution_count": 2,
     "metadata": {},
     "output_type": "execute_result"
    }
   ],
   "source": [
    "df=pd.read_csv('../shenzhen_data/morning_longtime_100000.csv')\n",
    "df.rename(columns={'in_station':'start', 'out_station':'end',  'time_minute': 'time'},inplace=True)\n",
    "df.drop(columns=['time_hour_minute'], inplace=True)\n",
    "df.head()"
   ]
  },
  {
   "cell_type": "code",
   "execution_count": 3,
   "metadata": {},
   "outputs": [
    {
     "data": {
      "text/html": [
       "<div>\n",
       "<style scoped>\n",
       "    .dataframe tbody tr th:only-of-type {\n",
       "        vertical-align: middle;\n",
       "    }\n",
       "\n",
       "    .dataframe tbody tr th {\n",
       "        vertical-align: top;\n",
       "    }\n",
       "\n",
       "    .dataframe thead th {\n",
       "        text-align: right;\n",
       "    }\n",
       "</style>\n",
       "<table border=\"1\" class=\"dataframe\">\n",
       "  <thead>\n",
       "    <tr style=\"text-align: right;\">\n",
       "      <th></th>\n",
       "      <th>start</th>\n",
       "      <th>end</th>\n",
       "      <th>time</th>\n",
       "      <th>id</th>\n",
       "      <th>forward</th>\n",
       "      <th>start_</th>\n",
       "      <th>end_</th>\n",
       "    </tr>\n",
       "  </thead>\n",
       "  <tbody>\n",
       "    <tr>\n",
       "      <th>0</th>\n",
       "      <td>19</td>\n",
       "      <td>24</td>\n",
       "      <td>125</td>\n",
       "      <td>0</td>\n",
       "      <td>1</td>\n",
       "      <td>19</td>\n",
       "      <td>24</td>\n",
       "    </tr>\n",
       "    <tr>\n",
       "      <th>1</th>\n",
       "      <td>17</td>\n",
       "      <td>3</td>\n",
       "      <td>229</td>\n",
       "      <td>1</td>\n",
       "      <td>0</td>\n",
       "      <td>32</td>\n",
       "      <td>46</td>\n",
       "    </tr>\n",
       "  </tbody>\n",
       "</table>\n",
       "</div>"
      ],
      "text/plain": [
       "   start  end  time  id  forward  start_  end_\n",
       "0     19   24   125   0        1      19    24\n",
       "1     17    3   229   1        0      32    46"
      ]
     },
     "execution_count": 3,
     "metadata": {},
     "output_type": "execute_result"
    }
   ],
   "source": [
    "df['id']=df.index\n",
    "df['forward'] = df.apply(lambda row: 1 if row['start'] < row['end'] else 0, axis=1)\n",
    "df['start_']=df.apply(lambda row: row['start'] if row['forward']==1 else stations_N*2-1-row['start'], axis=1)\n",
    "df['end_']=df.apply(lambda row: row['end'] if row['forward']==1 else stations_N*2-1-row['end'], axis=1)\n",
    "df['time']=df['time']-df['time'].min()\n",
    "sampled_df = df.sample(n=10000, random_state=42, replace=False)\n",
    "df.head(2)"
   ]
  },
  {
   "cell_type": "code",
   "execution_count": 10,
   "metadata": {},
   "outputs": [],
   "source": [
    "sampled_df.to_csv('../shenzhen_data/morning_longtime_100000(processed).csv', index=False)"
   ]
  },
  {
   "cell_type": "code",
   "execution_count": 14,
   "metadata": {},
   "outputs": [
    {
     "data": {
      "text/plain": [
       "27.0"
      ]
     },
     "execution_count": 14,
     "metadata": {},
     "output_type": "execute_result"
    }
   ],
   "source": []
  },
  {
   "cell_type": "code",
   "execution_count": 28,
   "metadata": {},
   "outputs": [
    {
     "data": {
      "text/plain": [
       "330"
      ]
     },
     "execution_count": 28,
     "metadata": {},
     "output_type": "execute_result"
    }
   ],
   "source": [
    "df['time'].max()"
   ]
  },
  {
   "cell_type": "code",
   "execution_count": 7,
   "metadata": {},
   "outputs": [
    {
     "data": {
      "text/plain": [
       "36    713\n",
       "25    549\n",
       "32    539\n",
       "37    489\n",
       "3     477\n",
       "2     458\n",
       "31    439\n",
       "13    431\n",
       "7     403\n",
       "12    387\n",
       "4     371\n",
       "30    350\n",
       "35    342\n",
       "34    300\n",
       "26    290\n",
       "29    277\n",
       "28    261\n",
       "27    252\n",
       "11    250\n",
       "5     209\n",
       "38    195\n",
       "33    187\n",
       "17    178\n",
       "8     178\n",
       "14    171\n",
       "6     148\n",
       "42    141\n",
       "18    133\n",
       "15    133\n",
       "9     111\n",
       "19    106\n",
       "41     80\n",
       "16     60\n",
       "20     60\n",
       "40     52\n",
       "45     39\n",
       "44     34\n",
       "43     32\n",
       "46     29\n",
       "22     26\n",
       "10     25\n",
       "21     24\n",
       "39     19\n",
       "1      18\n",
       "47     12\n",
       "23     12\n",
       "0      10\n",
       "Name: start_, dtype: int64"
      ]
     },
     "execution_count": 7,
     "metadata": {},
     "output_type": "execute_result"
    }
   ],
   "source": [
    "sampled_df['start_'].value_counts()"
   ]
  },
  {
   "cell_type": "code",
   "execution_count": 8,
   "metadata": {},
   "outputs": [
    {
     "data": {
      "text/plain": [
       "36    7017\n",
       "25    5519\n",
       "32    5261\n",
       "3     4929\n",
       "37    4768\n",
       "2     4412\n",
       "31    4412\n",
       "13    4280\n",
       "7     3961\n",
       "12    3922\n",
       "4     3737\n",
       "35    3636\n",
       "30    3624\n",
       "34    3144\n",
       "26    2787\n",
       "29    2666\n",
       "27    2518\n",
       "11    2486\n",
       "28    2329\n",
       "5     2212\n",
       "38    2039\n",
       "14    1869\n",
       "33    1826\n",
       "17    1810\n",
       "8     1665\n",
       "42    1360\n",
       "15    1326\n",
       "6     1318\n",
       "18    1296\n",
       "9     1185\n",
       "19     916\n",
       "41     775\n",
       "40     664\n",
       "16     648\n",
       "20     571\n",
       "45     401\n",
       "21     384\n",
       "43     375\n",
       "44     348\n",
       "10     277\n",
       "22     260\n",
       "46     259\n",
       "1      239\n",
       "39     176\n",
       "23     170\n",
       "47     130\n",
       "0       93\n",
       "Name: start_, dtype: int64"
      ]
     },
     "execution_count": 8,
     "metadata": {},
     "output_type": "execute_result"
    }
   ],
   "source": [
    "df['start_'].value_counts()"
   ]
  },
  {
   "cell_type": "code",
   "execution_count": null,
   "metadata": {},
   "outputs": [],
   "source": []
  }
 ],
 "metadata": {
  "kernelspec": {
   "display_name": "Python 3 (ipykernel)",
   "language": "python",
   "name": "python3"
  },
  "language_info": {
   "codemirror_mode": {
    "name": "ipython",
    "version": 3
   },
   "file_extension": ".py",
   "mimetype": "text/x-python",
   "name": "python",
   "nbconvert_exporter": "python",
   "pygments_lexer": "ipython3",
   "version": "3.10.12"
  }
 },
 "nbformat": 4,
 "nbformat_minor": 4
}
