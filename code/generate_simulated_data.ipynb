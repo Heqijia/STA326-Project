{
 "cells": [
  {
   "cell_type": "code",
   "execution_count": 2,
   "metadata": {},
   "outputs": [],
   "source": [
    "import random\n",
    "import pandas as pd\n",
    "import numpy as np\n",
    "from tqdm import tqdm\n",
    "import matplotlib.pyplot as plt\n",
    "from parameters import *"
   ]
  },
  {
   "cell_type": "code",
   "execution_count": 3,
   "metadata": {},
   "outputs": [
    {
     "data": {
      "text/plain": [
       "20"
      ]
     },
     "execution_count": 3,
     "metadata": {},
     "output_type": "execute_result"
    }
   ],
   "source": [
    "stations_N"
   ]
  },
  {
   "cell_type": "code",
   "execution_count": 3,
   "metadata": {},
   "outputs": [],
   "source": [
    "df = pd.DataFrame(columns=['start', 'end', 'time'])\n",
    "\n",
    "data = np.arange(stations_N)\n",
    "\n",
    "# 生成符合正态分布的随机数作为索引\n",
    "end=list(np.random.normal(4, 1, 22000).astype(int))\n",
    "start=list(np.random.normal(12, 1, 22000).astype(int))\n",
    "\n",
    "# start_uni=list(np.random.uniform(0, stations_N, 8000).astype(int))\n",
    "# end_uni=list(np.random.uniform(0, stations_N, 8000).astype(int))\n",
    "\n",
    "# start=start+start_uni\n",
    "# end=end+end_uni\n",
    "\n",
    "# 确保索引在合法范围内\n",
    "start = np.clip(start, 0, len(data)-1)\n",
    "end=np.clip(end, 0, len(data)-1)\n",
    "time=list(np.random.uniform(0, 240,22000).astype(int))\n",
    "\n",
    "df['start'] = start\n",
    "df['end'] = end\n",
    "df['time'] = time\n",
    "df['id']=df.index"
   ]
  },
  {
   "cell_type": "code",
   "execution_count": 4,
   "metadata": {},
   "outputs": [
    {
     "data": {
      "text/html": [
       "<div>\n",
       "<style scoped>\n",
       "    .dataframe tbody tr th:only-of-type {\n",
       "        vertical-align: middle;\n",
       "    }\n",
       "\n",
       "    .dataframe tbody tr th {\n",
       "        vertical-align: top;\n",
       "    }\n",
       "\n",
       "    .dataframe thead th {\n",
       "        text-align: right;\n",
       "    }\n",
       "</style>\n",
       "<table border=\"1\" class=\"dataframe\">\n",
       "  <thead>\n",
       "    <tr style=\"text-align: right;\">\n",
       "      <th></th>\n",
       "      <th>start</th>\n",
       "      <th>end</th>\n",
       "      <th>time</th>\n",
       "      <th>id</th>\n",
       "      <th>forward</th>\n",
       "    </tr>\n",
       "  </thead>\n",
       "  <tbody>\n",
       "    <tr>\n",
       "      <th>0</th>\n",
       "      <td>13</td>\n",
       "      <td>4</td>\n",
       "      <td>204</td>\n",
       "      <td>0</td>\n",
       "      <td>0</td>\n",
       "    </tr>\n",
       "    <tr>\n",
       "      <th>1</th>\n",
       "      <td>13</td>\n",
       "      <td>2</td>\n",
       "      <td>92</td>\n",
       "      <td>1</td>\n",
       "      <td>0</td>\n",
       "    </tr>\n",
       "    <tr>\n",
       "      <th>2</th>\n",
       "      <td>11</td>\n",
       "      <td>3</td>\n",
       "      <td>217</td>\n",
       "      <td>2</td>\n",
       "      <td>0</td>\n",
       "    </tr>\n",
       "    <tr>\n",
       "      <th>3</th>\n",
       "      <td>12</td>\n",
       "      <td>3</td>\n",
       "      <td>217</td>\n",
       "      <td>3</td>\n",
       "      <td>0</td>\n",
       "    </tr>\n",
       "    <tr>\n",
       "      <th>4</th>\n",
       "      <td>12</td>\n",
       "      <td>3</td>\n",
       "      <td>107</td>\n",
       "      <td>4</td>\n",
       "      <td>0</td>\n",
       "    </tr>\n",
       "    <tr>\n",
       "      <th>...</th>\n",
       "      <td>...</td>\n",
       "      <td>...</td>\n",
       "      <td>...</td>\n",
       "      <td>...</td>\n",
       "      <td>...</td>\n",
       "    </tr>\n",
       "    <tr>\n",
       "      <th>21995</th>\n",
       "      <td>12</td>\n",
       "      <td>4</td>\n",
       "      <td>122</td>\n",
       "      <td>21995</td>\n",
       "      <td>0</td>\n",
       "    </tr>\n",
       "    <tr>\n",
       "      <th>21996</th>\n",
       "      <td>12</td>\n",
       "      <td>4</td>\n",
       "      <td>95</td>\n",
       "      <td>21996</td>\n",
       "      <td>0</td>\n",
       "    </tr>\n",
       "    <tr>\n",
       "      <th>21997</th>\n",
       "      <td>10</td>\n",
       "      <td>4</td>\n",
       "      <td>148</td>\n",
       "      <td>21997</td>\n",
       "      <td>0</td>\n",
       "    </tr>\n",
       "    <tr>\n",
       "      <th>21998</th>\n",
       "      <td>11</td>\n",
       "      <td>4</td>\n",
       "      <td>78</td>\n",
       "      <td>21998</td>\n",
       "      <td>0</td>\n",
       "    </tr>\n",
       "    <tr>\n",
       "      <th>21999</th>\n",
       "      <td>10</td>\n",
       "      <td>4</td>\n",
       "      <td>227</td>\n",
       "      <td>21999</td>\n",
       "      <td>0</td>\n",
       "    </tr>\n",
       "  </tbody>\n",
       "</table>\n",
       "<p>22000 rows × 5 columns</p>\n",
       "</div>"
      ],
      "text/plain": [
       "       start  end  time     id  forward\n",
       "0         13    4   204      0        0\n",
       "1         13    2    92      1        0\n",
       "2         11    3   217      2        0\n",
       "3         12    3   217      3        0\n",
       "4         12    3   107      4        0\n",
       "...      ...  ...   ...    ...      ...\n",
       "21995     12    4   122  21995        0\n",
       "21996     12    4    95  21996        0\n",
       "21997     10    4   148  21997        0\n",
       "21998     11    4    78  21998        0\n",
       "21999     10    4   227  21999        0\n",
       "\n",
       "[22000 rows x 5 columns]"
      ]
     },
     "execution_count": 4,
     "metadata": {},
     "output_type": "execute_result"
    }
   ],
   "source": [
    "df['forward'] = df.apply(lambda row: 1 if row['start'] < row['end'] else 0, axis=1)\n",
    "df=df[df['start']!=df['end']]\n",
    "df"
   ]
  },
  {
   "cell_type": "code",
   "execution_count": 5,
   "metadata": {},
   "outputs": [],
   "source": [
    "df['start_']=df.apply(lambda row: row['start'] if row['forward']==1 else stations_N*2-1-row['start'], axis=1)\n",
    "df['end_']=df.apply(lambda row: row['end'] if row['forward']==1 else stations_N*2-1-row['end'], axis=1)"
   ]
  },
  {
   "cell_type": "code",
   "execution_count": 6,
   "metadata": {},
   "outputs": [
    {
     "data": {
      "text/plain": [
       "0    22000\n",
       "Name: forward, dtype: int64"
      ]
     },
     "execution_count": 6,
     "metadata": {},
     "output_type": "execute_result"
    }
   ],
   "source": [
    "df['forward'].value_counts()"
   ]
  },
  {
   "cell_type": "code",
   "execution_count": 7,
   "metadata": {},
   "outputs": [],
   "source": [
    "df.to_csv('../data/simulated_data.csv', index=False)"
   ]
  },
  {
   "cell_type": "code",
   "execution_count": 17,
   "metadata": {},
   "outputs": [],
   "source": [
    "df = pd.DataFrame(columns=['start', 'end', 'time'])\n",
    "\n",
    "data = np.arange(stations_N)\n",
    "\n",
    "# 生成符合正态分布的随机数作为索引\n",
    "# start=list(np.random.normal(4, 3, 20000).astype(int))\n",
    "# end=list(np.random.normal(12, 0.01, 20000).astype(int))\n",
    "\n",
    "start_uni=list(np.random.uniform(0, stations_N, 20000).astype(int))\n",
    "end_uni=list(np.random.uniform(0, stations_N, 20000).astype(int))\n",
    "\n",
    "# start=start+start_uni\n",
    "# end=end+end_uni\n",
    "\n",
    "# 确保索引在合法范围内\n",
    "start = np.clip(start_uni, 0, len(data)-1)\n",
    "end=np.clip(end_uni, 0, len(data)-1)\n",
    "time=list(np.random.uniform(0, 240,20000).astype(int))\n",
    "\n",
    "df['start'] = start\n",
    "df['end'] = end\n",
    "df['time'] = time\n",
    "df['id']=df.index\n",
    "\n",
    "df['forward'] = df.apply(lambda row: 1 if row['start'] < row['end'] else 0, axis=1)\n",
    "df=df[df['start']!=df['end']]\n",
    "\n",
    "df['start_']=df.apply(lambda row: row['start'] if row['forward']==1 else stations_N*2-1-row['start'], axis=1)\n",
    "df['end_']=df.apply(lambda row: row['end'] if row['forward']==1 else stations_N*2-1-row['end'], axis=1)"
   ]
  },
  {
   "cell_type": "code",
   "execution_count": 18,
   "metadata": {},
   "outputs": [
    {
     "data": {
      "text/plain": [
       "39    989\n",
       "19    916\n",
       "18    891\n",
       "17    875\n",
       "38    865\n",
       "37    838\n",
       "16    812\n",
       "36    800\n",
       "15    770\n",
       "35    713\n",
       "13    703\n",
       "14    685\n",
       "33    672\n",
       "34    664\n",
       "12    632\n",
       "32    616\n",
       "31    594\n",
       "11    536\n",
       "10    492\n",
       "30    484\n",
       "29    473\n",
       "9     434\n",
       "28    399\n",
       "27    378\n",
       "8     362\n",
       "7     350\n",
       "6     289\n",
       "26    280\n",
       "5     268\n",
       "25    262\n",
       "24    203\n",
       "4     177\n",
       "3     153\n",
       "23    143\n",
       "2     117\n",
       "22    107\n",
       "1      56\n",
       "21     45\n",
       "Name: end_, dtype: int64"
      ]
     },
     "execution_count": 18,
     "metadata": {},
     "output_type": "execute_result"
    }
   ],
   "source": [
    "df['end_'].value_counts()"
   ]
  },
  {
   "cell_type": "code",
   "execution_count": 19,
   "metadata": {},
   "outputs": [
    {
     "data": {
      "text/plain": [
       "(770, 770)"
      ]
     },
     "execution_count": 19,
     "metadata": {},
     "output_type": "execute_result"
    }
   ],
   "source": [
    "df[df['end_']==15]['forward'].sum(), df[df['end_']==15].shape[0]"
   ]
  },
  {
   "cell_type": "code",
   "execution_count": 20,
   "metadata": {},
   "outputs": [],
   "source": [
    "df.to_csv('../data/simulated_data(uniform).csv', index=False)"
   ]
  },
  {
   "cell_type": "code",
   "execution_count": 6,
   "metadata": {},
   "outputs": [
    {
     "data": {
      "text/plain": [
       "<Axes: >"
      ]
     },
     "execution_count": 6,
     "metadata": {},
     "output_type": "execute_result"
    },
    {
     "data": {
      "image/png": "[encoded data removed]",
      "text/plain": [
       "<Figure size 640x480 with 1 Axes>"
      ]
     },
     "metadata": {},
     "output_type": "display_data"
    }
   ],
   "source": [
    "df['forward'].value_counts().sort_index().plot(kind='bar')"
   ]
  },
  {
   "cell_type": "code",
   "execution_count": null,
   "metadata": {},
   "outputs": [],
   "source": []
  }
 ],
 "metadata": {
  "kernelspec": {
   "display_name": "Python 3 (ipykernel)",
   "language": "python",
   "name": "python3"
  },
  "language_info": {
   "codemirror_mode": {
    "name": "ipython",
    "version": 3
   },
   "file_extension": ".py",
   "mimetype": "text/x-python",
   "name": "python",
   "nbconvert_exporter": "python",
   "pygments_lexer": "ipython3",
   "version": "3.10.12"
  }
 },
 "nbformat": 4,
 "nbformat_minor": 4
}
